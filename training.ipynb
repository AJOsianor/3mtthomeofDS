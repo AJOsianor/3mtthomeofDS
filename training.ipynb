{
 "cells": [
  {
   "cell_type": "markdown",
   "id": "ada80758",
   "metadata": {},
   "source": [
    "    Abu Joy Osianor"
   ]
  },
  {
   "cell_type": "code",
   "execution_count": 6,
   "id": "a4da2e31",
   "metadata": {},
   "outputs": [],
   "source": [
    "import pandas as pd\n",
    "import seaborn as sn\n",
    "import matplotlib.pyplot as plt\n",
    "import numpy as np"
   ]
  },
  {
   "cell_type": "code",
   "execution_count": 7,
   "id": "15305eaf",
   "metadata": {},
   "outputs": [],
   "source": [
    "dict = {'Name of Student': ('Lloyd', 'Kelvin', 'Livinus', 'Amanda', 'Hurah', 'Kilean', 'Amada', 'Ogo', 'Jasiel', 'Ikhianosimhe'),\n",
    "             'Professional Label': ('Programmer', 'Litigator', 'Developer', 'Engineer', 'Nurse', 'Aeronautical Engr', 'Nurse', 'Doctor', 'Pilot', 'Architect'),\n",
    "       'Nationality': ('Nigeria', 'France', 'India', ' Slovakia', 'Nigeria', 'France', 'India', ' Slovakia', 'United State', 'Kuwait'),\n",
    "       'Profesional Credit': [90, 99, 80, 80, 89, 98, 100, 87, 100, 100]}"
   ]
  },
  {
   "cell_type": "code",
   "execution_count": 8,
   "id": "5e933291",
   "metadata": {},
   "outputs": [],
   "source": [
    "df = pd.DataFrame(dict)"
   ]
  },
  {
   "cell_type": "code",
   "execution_count": 9,
   "id": "1538029a",
   "metadata": {},
   "outputs": [
    {
     "data": {
      "text/html": [
       "<div>\n",
       "<style scoped>\n",
       "    .dataframe tbody tr th:only-of-type {\n",
       "        vertical-align: middle;\n",
       "    }\n",
       "\n",
       "    .dataframe tbody tr th {\n",
       "        vertical-align: top;\n",
       "    }\n",
       "\n",
       "    .dataframe thead th {\n",
       "        text-align: right;\n",
       "    }\n",
       "</style>\n",
       "<table border=\"1\" class=\"dataframe\">\n",
       "  <thead>\n",
       "    <tr style=\"text-align: right;\">\n",
       "      <th></th>\n",
       "      <th>Name of Student</th>\n",
       "      <th>Professional Label</th>\n",
       "      <th>Nationality</th>\n",
       "      <th>Profesional Credit</th>\n",
       "    </tr>\n",
       "  </thead>\n",
       "  <tbody>\n",
       "    <tr>\n",
       "      <th>0</th>\n",
       "      <td>Lloyd</td>\n",
       "      <td>Programmer</td>\n",
       "      <td>Nigeria</td>\n",
       "      <td>90</td>\n",
       "    </tr>\n",
       "    <tr>\n",
       "      <th>1</th>\n",
       "      <td>Kelvin</td>\n",
       "      <td>Litigator</td>\n",
       "      <td>France</td>\n",
       "      <td>99</td>\n",
       "    </tr>\n",
       "    <tr>\n",
       "      <th>2</th>\n",
       "      <td>Livinus</td>\n",
       "      <td>Developer</td>\n",
       "      <td>India</td>\n",
       "      <td>80</td>\n",
       "    </tr>\n",
       "    <tr>\n",
       "      <th>3</th>\n",
       "      <td>Amanda</td>\n",
       "      <td>Engineer</td>\n",
       "      <td>Slovakia</td>\n",
       "      <td>80</td>\n",
       "    </tr>\n",
       "    <tr>\n",
       "      <th>4</th>\n",
       "      <td>Hurah</td>\n",
       "      <td>Nurse</td>\n",
       "      <td>Nigeria</td>\n",
       "      <td>89</td>\n",
       "    </tr>\n",
       "    <tr>\n",
       "      <th>5</th>\n",
       "      <td>Kilean</td>\n",
       "      <td>Aeronautical Engr</td>\n",
       "      <td>France</td>\n",
       "      <td>98</td>\n",
       "    </tr>\n",
       "    <tr>\n",
       "      <th>6</th>\n",
       "      <td>Amada</td>\n",
       "      <td>Nurse</td>\n",
       "      <td>India</td>\n",
       "      <td>100</td>\n",
       "    </tr>\n",
       "    <tr>\n",
       "      <th>7</th>\n",
       "      <td>Ogo</td>\n",
       "      <td>Doctor</td>\n",
       "      <td>Slovakia</td>\n",
       "      <td>87</td>\n",
       "    </tr>\n",
       "    <tr>\n",
       "      <th>8</th>\n",
       "      <td>Jasiel</td>\n",
       "      <td>Pilot</td>\n",
       "      <td>United State</td>\n",
       "      <td>100</td>\n",
       "    </tr>\n",
       "    <tr>\n",
       "      <th>9</th>\n",
       "      <td>Ikhianosimhe</td>\n",
       "      <td>Architect</td>\n",
       "      <td>Kuwait</td>\n",
       "      <td>100</td>\n",
       "    </tr>\n",
       "  </tbody>\n",
       "</table>\n",
       "</div>"
      ],
      "text/plain": [
       "  Name of Student Professional Label   Nationality  Profesional Credit\n",
       "0           Lloyd         Programmer       Nigeria                  90\n",
       "1          Kelvin          Litigator        France                  99\n",
       "2         Livinus          Developer         India                  80\n",
       "3          Amanda           Engineer      Slovakia                  80\n",
       "4           Hurah              Nurse       Nigeria                  89\n",
       "5          Kilean  Aeronautical Engr        France                  98\n",
       "6           Amada              Nurse         India                 100\n",
       "7             Ogo             Doctor      Slovakia                  87\n",
       "8          Jasiel              Pilot  United State                 100\n",
       "9    Ikhianosimhe          Architect        Kuwait                 100"
      ]
     },
     "execution_count": 9,
     "metadata": {},
     "output_type": "execute_result"
    }
   ],
   "source": [
    "df"
   ]
  },
  {
   "cell_type": "code",
   "execution_count": 77,
   "id": "f830e351",
   "metadata": {},
   "outputs": [
    {
     "data": {
      "text/html": [
       "<div>\n",
       "<style scoped>\n",
       "    .dataframe tbody tr th:only-of-type {\n",
       "        vertical-align: middle;\n",
       "    }\n",
       "\n",
       "    .dataframe tbody tr th {\n",
       "        vertical-align: top;\n",
       "    }\n",
       "\n",
       "    .dataframe thead th {\n",
       "        text-align: right;\n",
       "    }\n",
       "</style>\n",
       "<table border=\"1\" class=\"dataframe\">\n",
       "  <thead>\n",
       "    <tr style=\"text-align: right;\">\n",
       "      <th></th>\n",
       "      <th>Name of Student</th>\n",
       "      <th>Professional Label</th>\n",
       "      <th>Nationality</th>\n",
       "      <th>Profesional Credit</th>\n",
       "    </tr>\n",
       "  </thead>\n",
       "  <tbody>\n",
       "    <tr>\n",
       "      <th>0</th>\n",
       "      <td>Lloyd</td>\n",
       "      <td>Programmer</td>\n",
       "      <td>Nigeria</td>\n",
       "      <td>90</td>\n",
       "    </tr>\n",
       "    <tr>\n",
       "      <th>1</th>\n",
       "      <td>Kelvin</td>\n",
       "      <td>Litigator</td>\n",
       "      <td>France</td>\n",
       "      <td>99</td>\n",
       "    </tr>\n",
       "    <tr>\n",
       "      <th>2</th>\n",
       "      <td>Livinus</td>\n",
       "      <td>Developer</td>\n",
       "      <td>India</td>\n",
       "      <td>80</td>\n",
       "    </tr>\n",
       "    <tr>\n",
       "      <th>3</th>\n",
       "      <td>Amanda</td>\n",
       "      <td>Engineer</td>\n",
       "      <td>Slovakia</td>\n",
       "      <td>80</td>\n",
       "    </tr>\n",
       "    <tr>\n",
       "      <th>4</th>\n",
       "      <td>Hurah</td>\n",
       "      <td>Nurse</td>\n",
       "      <td>Nigeria</td>\n",
       "      <td>89</td>\n",
       "    </tr>\n",
       "  </tbody>\n",
       "</table>\n",
       "</div>"
      ],
      "text/plain": [
       "  Name of Student Professional Label Nationality  Profesional Credit\n",
       "0           Lloyd         Programmer     Nigeria                  90\n",
       "1          Kelvin          Litigator      France                  99\n",
       "2         Livinus          Developer       India                  80\n",
       "3          Amanda           Engineer    Slovakia                  80\n",
       "4           Hurah              Nurse     Nigeria                  89"
      ]
     },
     "execution_count": 77,
     "metadata": {},
     "output_type": "execute_result"
    }
   ],
   "source": [
    "df.head(5)"
   ]
  },
  {
   "cell_type": "code",
   "execution_count": 78,
   "id": "cd76f5a8",
   "metadata": {
    "scrolled": true
   },
   "outputs": [
    {
     "data": {
      "text/html": [
       "<div>\n",
       "<style scoped>\n",
       "    .dataframe tbody tr th:only-of-type {\n",
       "        vertical-align: middle;\n",
       "    }\n",
       "\n",
       "    .dataframe tbody tr th {\n",
       "        vertical-align: top;\n",
       "    }\n",
       "\n",
       "    .dataframe thead th {\n",
       "        text-align: right;\n",
       "    }\n",
       "</style>\n",
       "<table border=\"1\" class=\"dataframe\">\n",
       "  <thead>\n",
       "    <tr style=\"text-align: right;\">\n",
       "      <th></th>\n",
       "      <th>Name of Student</th>\n",
       "      <th>Professional Label</th>\n",
       "      <th>Nationality</th>\n",
       "      <th>Profesional Credit</th>\n",
       "    </tr>\n",
       "  </thead>\n",
       "  <tbody>\n",
       "    <tr>\n",
       "      <th>8</th>\n",
       "      <td>Jasiel</td>\n",
       "      <td>Pilot</td>\n",
       "      <td>United State</td>\n",
       "      <td>100</td>\n",
       "    </tr>\n",
       "    <tr>\n",
       "      <th>9</th>\n",
       "      <td>Ikhianosimhe</td>\n",
       "      <td>Architect</td>\n",
       "      <td>Kuwait</td>\n",
       "      <td>100</td>\n",
       "    </tr>\n",
       "  </tbody>\n",
       "</table>\n",
       "</div>"
      ],
      "text/plain": [
       "  Name of Student Professional Label   Nationality  Profesional Credit\n",
       "8          Jasiel              Pilot  United State                 100\n",
       "9    Ikhianosimhe          Architect        Kuwait                 100"
      ]
     },
     "execution_count": 78,
     "metadata": {},
     "output_type": "execute_result"
    }
   ],
   "source": [
    "df.tail(2)"
   ]
  },
  {
   "cell_type": "code",
   "execution_count": 79,
   "id": "ef88085a",
   "metadata": {},
   "outputs": [
    {
     "data": {
      "text/plain": [
       "'Professional Label'"
      ]
     },
     "execution_count": 79,
     "metadata": {},
     "output_type": "execute_result"
    }
   ],
   "source": [
    "my_label = 'Professional Label'\n",
    "my_label"
   ]
  },
  {
   "cell_type": "code",
   "execution_count": 139,
   "id": "44e1472d",
   "metadata": {},
   "outputs": [
    {
     "data": {
      "text/plain": [
       "'Profesional Credit'"
      ]
     },
     "execution_count": 139,
     "metadata": {},
     "output_type": "execute_result"
    }
   ],
   "source": [
    "y='Profesional Credit'\n",
    "y"
   ]
  },
  {
   "cell_type": "code",
   "execution_count": 21,
   "id": "bedd3dcd",
   "metadata": {},
   "outputs": [],
   "source": [
    "# defining labels\n",
    "prof_career = ['Programmer', 'Litigator', 'Developer', 'Engineer', 'Nurse', 'Aeronautical Engr', 'Nurse', 'Doctor',\n",
    "               'Pilot', 'Architect']"
   ]
  },
  {
   "cell_type": "code",
   "execution_count": 31,
   "id": "1732585f",
   "metadata": {},
   "outputs": [],
   "source": [
    "# portion covered by each label\n",
    "Credit_score = [90, 99, 80, 80, 89, 98, 100, 87, 100, 100]\n",
    "# color for each label\n",
    "colors = ['r', 'y', 'g', 'b']"
   ]
  },
  {
   "cell_type": "code",
   "execution_count": 50,
   "id": "9f32fcac",
   "metadata": {},
   "outputs": [
    {
     "data": {
      "text/plain": [
       "([<matplotlib.patches.Wedge at 0x245114678d0>,\n",
       "  <matplotlib.patches.Wedge at 0x24511474d10>,\n",
       "  <matplotlib.patches.Wedge at 0x24511476e50>,\n",
       "  <matplotlib.patches.Wedge at 0x24511484f50>,\n",
       "  <matplotlib.patches.Wedge at 0x24511487050>,\n",
       "  <matplotlib.patches.Wedge at 0x245114951d0>,\n",
       "  <matplotlib.patches.Wedge at 0x24511496f10>,\n",
       "  <matplotlib.patches.Wedge at 0x245114a4dd0>,\n",
       "  <matplotlib.patches.Wedge at 0x245114a6c90>,\n",
       "  <matplotlib.patches.Wedge at 0x24511494d90>],\n",
       " [Text(-0.39806223231092774, 1.2585493471483908, 'Programmer'),\n",
       "  Text(-1.073420850130645, 0.76822371644255, 'Litigator'),\n",
       "  Text(-1.4198992407012825, 0.016915858119588692, 'Developer'),\n",
       "  Text(-1.1371160389733583, -0.670348501832845, 'Engineer'),\n",
       "  Text(-0.5894389586433199, -1.1810849732485291, 'Nurse'),\n",
       "  Text(0.22798645367620088, -1.3001623656067536, 'Aeronautical Engr'),\n",
       "  Text(0.9895224226063316, -0.873639156150465, 'Nurse'),\n",
       "  Text(1.315031242345411, -0.11442391207909779, 'Doctor'),\n",
       "  Text(1.2960806069584745, 0.7940875646086851, 'Pilot'),\n",
       "  Text(0.44066029870192797, 1.2442742869431673, 'Architect')],\n",
       " [Text(-0.21712485398777875, 0.6864814620809404, '9.8%'),\n",
       "  Text(-0.5855022818894426, 0.4190311180595727, '10.7%'),\n",
       "  Text(-0.8199418150528531, 0.009768312435255442, '8.7%'),\n",
       "  Text(-0.6202451121672864, -0.36564463736336994, '8.7%'),\n",
       "  Text(-0.32151215925999266, -0.6442281672264704, '9.6%'),\n",
       "  Text(0.12435624745974592, -0.7091794721491382, '10.6%'),\n",
       "  Text(0.5397395032398172, -0.4765304488093445, '10.8%'),\n",
       "  Text(0.7172897685520423, -0.062413042952235154, '9.4%'),\n",
       "  Text(0.7844698410538135, 0.48063194699999356, '10.8%'),\n",
       "  Text(0.24036016292832432, 0.678695065605364, '10.8%')])"
      ]
     },
     "execution_count": 50,
     "metadata": {},
     "output_type": "execute_result"
    },
    {
     "data": {
      "image/png": "[encoded data removed]",
      "text/plain": [
       "<Figure size 640x480 with 1 Axes>"
      ]
     },
     "metadata": {},
     "output_type": "display_data"
    }
   ],
   "source": [
    "# plotting the pie chart\n",
    "plt.pie(Credit_score, labels = prof_career, colors=colors, \n",
    "        startangle=90, shadow = True, explode = (0, 0, 0.1, 0, 0, 0, 0, 0, 0.2, 0),\n",
    "        radius = 1.2, autopct = '%1.1f%%')"
   ]
  },
  {
   "cell_type": "markdown",
   "id": "812d6687",
   "metadata": {},
   "source": [
    "Data Analysis Life Cycle"
   ]
  },
  {
   "cell_type": "markdown",
   "id": "85c56a10",
   "metadata": {},
   "source": [
    "A scientific method that helps give the data analytics life cycle a structured framework can divided into six phases of\n",
    "data analytics architecture. This means that all these steps in the data analytics life cycle in big data will have to be followed one after the other.\n",
    "\n",
    "Phase 1: Data Discovery and Formation\n",
    "Phase 2: Data Preparation and Processing\n",
    "Phase 3: Design a Model\n",
    "Phase 4: Model Building\n",
    "Phase 5: Result Communication and Publication\n",
    "Phase 6: Measuring of Effectiveness"
   ]
  },
  {
   "cell_type": "markdown",
   "id": "2c37dccd",
   "metadata": {},
   "source": [
    "What Understand by Data Analysis"
   ]
  },
  {
   "cell_type": "code",
   "execution_count": null,
   "id": "156d6568",
   "metadata": {},
   "outputs": [],
   "source": [
    "Data analysis inspects, cleans, transforms, and models data to extract insights and support decision-making. \n",
    "A data analyst role involves dissecting vast datasets, unearthing hidden patterns, and translating numbers into actionable \n",
    "information."
   ]
  },
  {
   "cell_type": "markdown",
   "id": "f672f2ea",
   "metadata": {},
   "source": [
    "Data Analytics Tools"
   ]
  },
  {
   "cell_type": "code",
   "execution_count": null,
   "id": "f21fce22",
   "metadata": {},
   "outputs": [],
   "source": [
    "  Python: A Versatile and Open-Source Programming Language\n",
    "      R: Unleashing Statistical Power through Open Source Programming\n",
    "          Tableau: Crafting Interactive Data Narratives\n",
    "              Power BI: Empowering Business Intelligence with Ease\n",
    "                  QlikView: Unveiling Interactive Analytics and Guided Insights\n",
    "                        Apache Spark: Real-Time Data Analytics Powerhouse\n",
    "                            SAS: Statistical Analysis and Beyond"
   ]
  },
  {
   "cell_type": "markdown",
   "id": "503500b2",
   "metadata": {},
   "source": [
    "Data Science"
   ]
  },
  {
   "cell_type": "code",
   "execution_count": null,
   "id": "e268f95d",
   "metadata": {},
   "outputs": [],
   "source": [
    "Data science is the study of data to extract meaningful insights for business. It is a multidisciplinary approach \n",
    "that combines principles and practices from the fields of mathematics, statistics, artificial intelligence, and computer \n",
    "engineering to analyze large amounts of data. This analysis helps data scientists to ask and answer questions like what \n",
    "happened, why it happened, what will happen, and what can be done with the results."
   ]
  }
 ],
 "metadata": {
  "kernelspec": {
   "display_name": "Python 3 (ipykernel)",
   "language": "python",
   "name": "python3"
  },
  "language_info": {
   "codemirror_mode": {
    "name": "ipython",
    "version": 3
   },
   "file_extension": ".py",
   "mimetype": "text/x-python",
   "name": "python",
   "nbconvert_exporter": "python",
   "pygments_lexer": "ipython3",
   "version": "3.11.5"
  }
 },
 "nbformat": 4,
 "nbformat_minor": 5
}
